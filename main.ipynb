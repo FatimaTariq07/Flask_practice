{
 "cells": [
  {
   "cell_type": "code",
   "execution_count": null,
   "metadata": {},
   "outputs": [],
   "source": [
    "from flask import Flask\n",
    "\n",
    "app = Flask(__name__)\n",
    "\n",
    "@app.route('/')\n",
    "def hello_world():\n",
    "    return 'Hello World!!'\n",
    "@app.route('/ehtsham/<name>')\n",
    "def name(name):\n",
    "    return 'This page is for {}'.format(name)\n",
    "\n",
    "if __name__ == '__main__':\n",
    "    app.run(debug=True)"
   ]
  },
  {
   "cell_type": "code",
   "execution_count": null,
   "metadata": {},
   "outputs": [],
   "source": [
    "from flask import Flask,render_template\n",
    "from wtforms import StringField,SubmitField\n",
    "from flask_wtf import FlaskForm\n",
    "\n",
    "app = Flask(__name__)\n",
    "\n",
    "app.config['SECRET_KEY'] = 'my_secret_key'\n",
    "\n",
    "class FormInfo(FlaskForm):\n",
    "    breed = StringField(\"What breed do you have?\")\n",
    "    submit = SubmitField(\"Submit\")\n",
    "\n",
    "@app.route('/',methods=['GET','POST'])\n",
    "def index():\n",
    "    breed = False\n",
    "    form = FormInfo()\n",
    "    if form.validate_on_submit():\n",
    "        breed = form.breed.data\n",
    "        form.breed.data = ''\n",
    "    return render_template('index.html',form=form,breed=breed)\n",
    "\n",
    "\n",
    "if __name__ == '__main__':\n",
    "    app.run(debug=True)"
   ]
  },
  {
   "cell_type": "markdown",
   "metadata": {},
   "source": [
    "<body>\n",
    "    <p>\n",
    "        {% if breed %}\n",
    "        the breed yo entered is {{breed}} is updated now \n",
    "        using the forms below\n",
    "        {% else %}\n",
    "        please enter your breed:\n",
    "        {% endif %}\n",
    "        \n",
    "    </p>\n",
    "    <form method=\"POST\">\n",
    "\n",
    "        {{ form.hidden_tag() }}\n",
    "        {{ form.breed.label }}\n",
    "        {{ form.breed() }}\n",
    "        {{ form.submit() }}\n",
    "\n",
    "    </form>\n",
    "</body>"
   ]
  }
 ],
 "metadata": {
  "language_info": {
   "name": "python"
  }
 },
 "nbformat": 4,
 "nbformat_minor": 2
}
